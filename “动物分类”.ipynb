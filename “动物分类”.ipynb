{
  "cells": [
    {
      "cell_type": "markdown",
      "metadata": {
        "id": "view-in-github",
        "colab_type": "text"
      },
      "source": [
        "<a href=\"https://colab.research.google.com/github/Vei-son/Colab-files/blob/main/%E2%80%9C%E5%8A%A8%E7%89%A9%E5%88%86%E7%B1%BB%E2%80%9D.ipynb\" target=\"_parent\"><img src=\"https://colab.research.google.com/assets/colab-badge.svg\" alt=\"Open In Colab\"/></a>"
      ]
    },
    {
      "cell_type": "markdown",
      "metadata": {
        "id": "KS1B0p2uJ4Kv"
      },
      "source": [
        "动物分类教程\n",
        "\n",
        "欢迎各位同学选修本课程！"
      ]
    },
    {
      "cell_type": "markdown",
      "source": [
        "使用 Python 进行编程文档请参阅 https://docs.python.org/zh-cn/3/contents.html 。\n",
        "\n",
        "使用 PyTorch 框架，下载、文档等详情参阅 https://pytorch.org/ ，具体中文文档参阅 https://www.pytorch.wiki/ 。"
      ],
      "metadata": {
        "id": "VYa0YcAdUc21"
      }
    },
    {
      "cell_type": "markdown",
      "metadata": {
        "id": "Omm0IoVSJ4Kw"
      },
      "source": [
        "## 环境配置\n",
        "\n",
        "在运行本代码前，你需要在以下选项二选一完成：本地环境配置或使用 Google Colab * <a href=\"https://colab.research.google.com/drive/1Lf0Y5-3gvjKKggQTf1zWrEqHYYIVp3z2#scrollTo=Omm0IoVSJ4Kw\" target=\"_parent\"><img src=\"https://colab.research.google.com/assets/colab-badge.svg\" alt=\"Open In Colab\"/></a>\n",
        "完成。若你使用 Colab 可以忽略以下配置环境的过程，可直接阅读下一节。\n",
        "\n",
        "建议你下载 Anaconda 完成虚拟环境的配置，https://www.anaconda.com ，因为在不同的项目中需要的 Python 版本、不同包的版本可能不同，因此需要不同包的管理软件。Anaconda 的使用，参阅 https://anaconda.cloud/support-center ，或 https://zhuanlan.zhihu.com/p/348120084 获得对新手更为友好的中文教程。"
      ]
    },
    {
      "cell_type": "markdown",
      "source": [
        "Colab 使用建议：你可以使用你的 Google Drive，将数据集上传至 Google Drive 后，进行挂载使用。否则需要每次会话时重复上传。Google Drive 挂载在 Colab 使用参阅 https://blog.csdn.net/aiynmimi/article/details/88238246"
      ],
      "metadata": {
        "id": "200aiCPIJR93"
      }
    },
    {
      "cell_type": "markdown",
      "metadata": {
        "id": "g9qJNWBrJ4Kh"
      },
      "source": [
        "# Baseline 算法"
      ]
    },
    {
      "cell_type": "markdown",
      "source": [
        "*更新（8.30）* 更新了直接下载数据集的代码。 "
      ],
      "metadata": {
        "id": "J0wrKwd_xEFk"
      }
    },
    {
      "cell_type": "code",
      "source": [
        "!gdown --id 1_VGsRsHGGIdjg6gE3qq7YAJ0wcYTkfAz --output /content/Animal.zip\n",
        "!chmod +x /content/Animal.zip\n",
        "!unzip -o /content/Animal.zip"
      ],
      "metadata": {
        "id": "0glUQl7na8J5"
      },
      "execution_count": null,
      "outputs": []
    },
    {
      "cell_type": "markdown",
      "source": [
        "***! 表示让 colab 运行 Linux 命令，当然你也可以用以下方式完成，与上一个代码块的操作一致：***"
      ],
      "metadata": {
        "id": "-cbV6nw-yQA7"
      }
    },
    {
      "cell_type": "code",
      "source": [
        "%%bash\n",
        "gdown --id 1_VGsRsHGGIdjg6gE3qq7YAJ0wcYTkfAz --output /content/Animal.zip\n",
        "chmod +x /content/Animal.zip\n",
        "unzip -o /content/Animal.zip"
      ],
      "metadata": {
        "id": "xTOAX_Soyf4R"
      },
      "execution_count": null,
      "outputs": []
    },
    {
      "cell_type": "markdown",
      "source": [
        "## 数据读入\n",
        "\n",
        "如何读入数据？参阅 https://pytorch.org/tutorials/beginner/basics/data_tutorial.html ，我们进行对数据集的读入。\n",
        "在真正读入前，我们先进行一些预处理。"
      ],
      "metadata": {
        "id": "kOq4Ibt0MEXR"
      }
    },
    {
      "cell_type": "code",
      "execution_count": null,
      "metadata": {
        "id": "Rf-KCZBYJ4Kx"
      },
      "outputs": [],
      "source": [
        "NUM_CLASSES = 22\n",
        "LABELS = [\n",
        "    \"ape\", \"bear\", \"bison\", \"cat\", \n",
        "    \"chicken\", \"cow\", \"deer\", \"dog\",\n",
        "    \"dolphin\", \"duck\", \"eagle\", \"fish\", \n",
        "    \"horse\", \"lion\", \"lobster\", \"pig\", \n",
        "    \"rabbit\", \"shark\", \"snake\", \"spider\", \n",
        "    \"turkey\", \"wolf\"\n",
        "]\n",
        "LABEL_MAP = {\n",
        "    0: \"ape\", 1: \"bear\", 2: \"bison\", 3: \"cat\", \n",
        "    4: \"chicken\", 5: \"cow\", 6: \"deer\", 7: \"dog\",\n",
        "    8: \"dolphin\", 9: \"duck\", 10: \"eagle\", 11: \"fish\", \n",
        "    12: \"horse\", 13: \"lion\", 14: \"lobster\", \n",
        "    15: \"pig\", 16: \"rabbit\", 17: \"shark\", 18: \"snake\", \n",
        "    19: \"spider\", 20:  \"turkey\", 21: \"wolf\"\n",
        "}"
      ]
    },
    {
      "cell_type": "markdown",
      "source": [
        "你还需要把训练集进行分割，分割出 Valid 集"
      ],
      "metadata": {
        "id": "526fRcuSipvw"
      }
    },
    {
      "cell_type": "markdown",
      "source": [
        "由于本任务数据的特殊性，可以直接使用 ImageFolder ，而不需要单独设计 Dataset 类，因此先定义 transforms, 参阅 https://pytorch.org/tutorials/beginner/basics/transforms_tutorial.html 。"
      ],
      "metadata": {
        "id": "XgyE8fPkBOEV"
      }
    },
    {
      "cell_type": "code",
      "source": [
        "from torchvision import transforms\n",
        "\n",
        "transform_labeled = None #!TODO: rewrite this statement\n",
        "transform_val = None #!TODO: rewrite this statement"
      ],
      "metadata": {
        "id": "vQN4kO12BSWY"
      },
      "execution_count": null,
      "outputs": []
    },
    {
      "cell_type": "markdown",
      "source": [
        "将训练、测试集读入 DataLoader"
      ],
      "metadata": {
        "id": "usw-l1FFCPxE"
      }
    },
    {
      "cell_type": "code",
      "source": [
        "import os\n",
        "\n",
        "from torchvision.datasets import ImageFolder, VisionDataset\n",
        "from torch.utils.data import DataLoader\n",
        "\n",
        "data_path = '/content/Animals Dataset' #@param \n",
        "batch_size = 16 #@param\n",
        "num_workers = 0 #@param\n",
        "\n",
        "train_path = (os.path.join(data_path, 'train'))\n",
        "test_path = (os.path.join(data_path, 'test'))\n",
        "\n",
        "train_dataset = ImageFolder(\n",
        "    train_path,\n",
        "    transform_labeled)\n",
        "test_dataset = None #!TODO: rewrite this statement\n",
        "\n",
        "train_loader = DataLoader(\n",
        "    train_dataset,\n",
        "    batch_size=batch_size,\n",
        "    num_workers=num_workers)\n",
        "test_loader = None #!TODO: rewrite this statement"
      ],
      "metadata": {
        "id": "9E9-_dhQCT6C"
      },
      "execution_count": null,
      "outputs": []
    },
    {
      "cell_type": "markdown",
      "source": [
        "## 建立模型"
      ],
      "metadata": {
        "id": "P9_EKvIZHSQ2"
      }
    },
    {
      "cell_type": "markdown",
      "source": [
        "本节介绍如何定义一个模型，参阅 https://pytorch.org/tutorials/beginner/basics/buildmodel_tutorial.html "
      ],
      "metadata": {
        "id": "P4iGVRdGHZ1j"
      }
    },
    {
      "cell_type": "markdown",
      "source": [
        "先进行预处理"
      ],
      "metadata": {
        "id": "10arQtjzHhZM"
      }
    },
    {
      "cell_type": "code",
      "source": [
        "import torch\n",
        "from torch import nn\n",
        "from torch.nn import functional as F\n",
        "\n",
        "device = \"cuda\" if torch.cuda.is_available() else \"cpu\"\n",
        "print(f\"Using {device} device\")"
      ],
      "metadata": {
        "id": "Jr1uEM3AHRzw"
      },
      "execution_count": null,
      "outputs": []
    },
    {
      "cell_type": "markdown",
      "source": [
        "定义模型类，注意到 PyTorch 是动态图，因此在数据进行前向传播时我们相当于已经定义了 Backpropagation 反向传播。"
      ],
      "metadata": {
        "id": "tHdnIK2cHrei"
      }
    },
    {
      "cell_type": "code",
      "source": [
        "class BersonNetwork(nn.Module):\n",
        "  def __init__(self):\n",
        "    super(BersonNetwork, self).__init__()\n",
        "    self.flatten = nn.Flatten()\n",
        "    self.c1 = nn.Conv2d(3, 20, 5, 2, 0)\n",
        "    self.c2 = nn.Conv2d(20, 1, 5, 1, 0)\n",
        "    self.linear_relu_stack = nn.Sequential(\n",
        "        nn.Linear(0, 128), #!TODO: Change 0 to a proper value\n",
        "        #!Tips: You should calculate the number of neurons.\n",
        "        nn.ReLU(),\n",
        "        nn.Linear(128, 512),\n",
        "        nn.ReLU(),\n",
        "        nn.Linear(512, 0),#!TODO: Change 0 to a proper value\n",
        "    )\n",
        "\n",
        "  def forward(self, x):\n",
        "    x = self.c1(x)\n",
        "    x = F.relu(x) #!Question: What's the difference between torch.nn.relu() and torch.nn.F.relu()\n",
        "    x = self.c2(x)\n",
        "    x = F.relu(x)\n",
        "    x = x.view(x.size(0), -1)\n",
        "    logits = self.linear_relu_stack(x)\n",
        "    return logits"
      ],
      "metadata": {
        "id": "utWrSfapH-5D"
      },
      "execution_count": null,
      "outputs": []
    },
    {
      "cell_type": "markdown",
      "source": [
        "这样模型就可以定义为："
      ],
      "metadata": {
        "id": "lJCdPaGBKDUR"
      }
    },
    {
      "cell_type": "code",
      "source": [
        "model = BersonNetwork().to(device)\n",
        "print(model)\n",
        "model.train()"
      ],
      "metadata": {
        "id": "PXBO6b7fKGdE"
      },
      "execution_count": null,
      "outputs": []
    },
    {
      "cell_type": "markdown",
      "source": [
        "设置模型训练超参数、损失函数与优化器"
      ],
      "metadata": {
        "id": "L0TcWbDhLHA4"
      }
    },
    {
      "cell_type": "code",
      "source": [
        "learning_rate = 1e-3 #@param\n",
        "batch_size = 64 #@param\n",
        "epochs = 5 #@param\n",
        "loss_fn = nn.CrossEntropyLoss()\n",
        "optimizer = torch.optim.Adam(model.parameters(), lr = learning_rate)"
      ],
      "metadata": {
        "id": "T0kNniZ5LGas"
      },
      "execution_count": null,
      "outputs": []
    },
    {
      "cell_type": "markdown",
      "source": [
        "定义评价指标"
      ],
      "metadata": {
        "id": "FLO8Hv18NWbP"
      }
    },
    {
      "cell_type": "code",
      "source": [
        "class AverageMeter(object):\n",
        "  \"\"\"Computes and stores the average and current value\"\"\"\n",
        "  def __init__(self, name, fmt=':f'):\n",
        "      self.name = name\n",
        "      self.fmt = fmt\n",
        "      self.reset()\n",
        "\n",
        "  def reset(self):\n",
        "      self.val = 0\n",
        "      self.avg = 0\n",
        "      self.sum = 0\n",
        "      self.count = 0\n",
        "\n",
        "  def update(self, val, n=1):\n",
        "      self.val = val\n",
        "      self.sum += val * n\n",
        "      self.count += n\n",
        "      self.avg = self.sum / self.count\n",
        "\n",
        "  def __str__(self):\n",
        "      fmtstr = '{name} {avg' + self.fmt + '}'\n",
        "      return fmtstr.format(**self.__dict__)\n",
        "\n",
        "def accuracy(output, target, topk=(1,)):\n",
        "  \"\"\"Computes the accuracy over the k top predictions for the specified values of k\"\"\"\n",
        "  with torch.no_grad():\n",
        "    maxk = max(topk)\n",
        "    batch_size = target.size(0)\n",
        "\n",
        "    _, pred = output.topk(maxk, 1, True, True)\n",
        "    pred = pred.t()\n",
        "    correct = pred.eq(target.view(1, -1).expand_as(pred))\n",
        "\n",
        "    res = []\n",
        "    for k in topk:\n",
        "        correct_k = correct[:k].reshape(-1).float().sum(0, keepdim=True)\n",
        "        res.append(correct_k.mul_(100.0 / batch_size))\n",
        "    return res\n",
        "\n",
        "batch_time = AverageMeter('Time', ':6.3f')\n",
        "data_time = AverageMeter('Data', ':6.3f')\n",
        "losses = AverageMeter('Loss', ':.4e')\n",
        "top1 = AverageMeter('Acc@1', ':6.2f')\n",
        "top5 = AverageMeter('Acc@5', ':6.2f')"
      ],
      "metadata": {
        "id": "Brywafn3NYcg"
      },
      "execution_count": null,
      "outputs": []
    },
    {
      "cell_type": "markdown",
      "source": [
        "训练"
      ],
      "metadata": {
        "id": "B3tO4464OyIv"
      }
    },
    {
      "cell_type": "code",
      "source": [
        "import time\n",
        "\n",
        "start = time.time()\n",
        "for i in range(epochs):\n",
        "  for batch, (X, y) in enumerate(train_loader):\n",
        "    data_time.update(time.time() - start)\n",
        "    pred = model(X)\n",
        "    loss = loss_fn(pred, y)\n",
        "\n",
        "    optimizer.zero_grad()\n",
        "    loss.backward()\n",
        "    optimizer.step()\n",
        "\n",
        "    acc1, acc5 = accuracy(pred, y, topk=(1, 5))\n",
        "    losses.update(loss.item(), X.size(0))\n",
        "    top1.update(acc1[0], X.size(0))\n",
        "    top5.update(acc5[0], X.size(0))\n",
        "    \n",
        "  batch_time.update(time.time() - start)\n",
        "  start = time.time()\n",
        "\n",
        "  print(f\"Epoch:{i + 1}: {batch_time}, {losses}, {top1}, {top5}\")"
      ],
      "metadata": {
        "id": "DIjFoll0K3ei"
      },
      "execution_count": null,
      "outputs": []
    },
    {
      "cell_type": "markdown",
      "source": [
        "由于模型过于简单，因此训练准确率不高。你可以尝试训练其它的模型（甚至于预训练模型，但预训练模型如何进行训练也是一个值得讨论的问题）。\n",
        "同时，这里并没有使用 Valid 集来进行评价，而是使用了 train 集，你可以尝试加入 Valid 集（如提前分割，或用其他方式等）\n",
        "\n"
      ],
      "metadata": {
        "id": "RJwMp1nLhsKK"
      }
    },
    {
      "cell_type": "markdown",
      "source": [
        "# 输出结果"
      ],
      "metadata": {
        "id": "BHmxu_wOj1km"
      }
    },
    {
      "cell_type": "markdown",
      "source": [
        "输出结果非常简单，与训练类似，但模型不能更新参数"
      ],
      "metadata": {
        "id": "Ia4LbERPkAdo"
      }
    },
    {
      "cell_type": "code",
      "source": [
        "model.eval()\n",
        "labels = []\n",
        "with torch.no_grad():\n",
        "  for _, (images, _) in enumerate(test_loader):\n",
        "    y = model(images)\n",
        "    batch_labels = torch.argmax(y, dim=1)\n",
        "    labels.append(batch_labels)\n",
        "ans = torch.cat(labels, 0).cpu().numpy()\n",
        "print(ans)\n",
        "print([LABEL_MAP[i] for i in ans])"
      ],
      "metadata": {
        "id": "li4KigOFj0-K"
      },
      "execution_count": null,
      "outputs": []
    },
    {
      "cell_type": "markdown",
      "source": [
        "# 保存模型"
      ],
      "metadata": {
        "id": "gvwaWlrDlfFz"
      }
    },
    {
      "cell_type": "markdown",
      "source": [
        "参阅 https://pytorch.org/tutorials/beginner/basics/saveloadrun_tutorial.html"
      ],
      "metadata": {
        "id": "-D_R49EzlhBa"
      }
    },
    {
      "cell_type": "code",
      "source": [
        "torch.save(model, 'model.path')"
      ],
      "metadata": {
        "id": "eze0NIPxlo0R"
      },
      "execution_count": null,
      "outputs": []
    },
    {
      "cell_type": "code",
      "source": [
        "model = torch.load('model.path')"
      ],
      "metadata": {
        "id": "ZH9zeHdUluHT"
      },
      "execution_count": null,
      "outputs": []
    }
  ],
  "metadata": {
    "language_info": {
      "name": "python"
    },
    "orig_nbformat": 4,
    "colab": {
      "provenance": [],
      "collapsed_sections": [],
      "background_execution": "on",
      "toc_visible": true,
      "include_colab_link": true
    },
    "kernelspec": {
      "name": "python3",
      "display_name": "Python 3"
    },
    "gpuClass": "standard",
    "accelerator": "GPU"
  },
  "nbformat": 4,
  "nbformat_minor": 0
}